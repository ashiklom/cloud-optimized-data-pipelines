{
 "cells": [
  {
   "cell_type": "code",
   "execution_count": null,
   "id": "9ebe7138",
   "metadata": {},
   "outputs": [],
   "source": [
    "import xarray as xr, cartopy.crs as crs\n",
    "import hvplot.xarray  # noqa"
   ]
  },
  {
   "cell_type": "code",
   "execution_count": null,
   "id": "de0fb80a",
   "metadata": {},
   "outputs": [],
   "source": [
    "air_ds = xr.tutorial.open_dataset('air_temperature').load()\n",
    "proj = crs.Orthographic(-90, 30)"
   ]
  },
  {
   "cell_type": "code",
   "execution_count": null,
   "id": "5116c1d1",
   "metadata": {},
   "outputs": [],
   "source": [
    "air_ds"
   ]
  },
  {
   "cell_type": "code",
   "execution_count": null,
   "id": "0a71c397",
   "metadata": {},
   "outputs": [],
   "source": [
    "air_ds.air.isel(time=slice(0, 9, 3)).hvplot.quadmesh(\n",
    "    'lon', 'lat', projection=proj, project=True, global_extent=True, \n",
    "    cmap='viridis', dynamic=False, coastline=True, \n",
    "    frame_width=500)"
   ]
  },
  {
   "cell_type": "code",
   "execution_count": null,
   "id": "d7c105d1",
   "metadata": {},
   "outputs": [],
   "source": [
    "#!pip install cartopy\n",
    "#!pip install hvplot\n",
    "#!pip install geoviews\n",
    "#!pip install scipy"
   ]
  },
  {
   "cell_type": "code",
   "execution_count": null,
   "id": "3a4557d5",
   "metadata": {},
   "outputs": [],
   "source": [
    "air_ds.air.isel(time=slice(0, 9, 3))"
   ]
  },
  {
   "cell_type": "code",
   "execution_count": null,
   "id": "85c36cd6",
   "metadata": {},
   "outputs": [],
   "source": [
    "icesat2 = xr.open_dataset('cogify/IS2SITMOGR4_01_202104_004_001.nc', decode_coordinates=)"
   ]
  },
  {
   "cell_type": "code",
   "execution_count": null,
   "id": "9bfb2e99",
   "metadata": {},
   "outputs": [],
   "source": [
    "icesat2.set_coords(['longitude', 'latitude'])"
   ]
  }
 ],
 "metadata": {
  "kernelspec": {
   "display_name": "Python 3 (ipykernel)",
   "language": "python",
   "name": "python3"
  },
  "language_info": {
   "codemirror_mode": {
    "name": "ipython",
    "version": 3
   },
   "file_extension": ".py",
   "mimetype": "text/x-python",
   "name": "python",
   "nbconvert_exporter": "python",
   "pygments_lexer": "ipython3",
   "version": "3.9.7"
  }
 },
 "nbformat": 4,
 "nbformat_minor": 5
}
