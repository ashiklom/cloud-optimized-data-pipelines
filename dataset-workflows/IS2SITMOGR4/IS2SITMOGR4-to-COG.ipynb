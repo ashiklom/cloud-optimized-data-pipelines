{
 "cells": [
  {
   "cell_type": "code",
   "execution_count": 2,
   "id": "a87c46fa",
   "metadata": {},
   "outputs": [],
   "source": [
    "import earthdata\n",
    "import xarray\n",
    "import pyproj\n",
    "import numpy as np\n",
    "from osgeo import osr\n",
    "import rasterio\n",
    "from rasterio.crs import CRS\n",
    "from rasterio.transform import Affine\n",
    "from rasterio.warp import calculate_default_transform"
   ]
  },
  {
   "cell_type": "code",
   "execution_count": 3,
   "id": "7058673c",
   "metadata": {},
   "outputs": [
    {
     "name": "stdout",
     "output_type": "stream",
     "text": [
      "Enter your Earthdata Login username: aimeeb\n",
      "Enter your Earthdata password: ········\n",
      "You're now authenticated with NASA Earthdata Login\n"
     ]
    }
   ],
   "source": [
    "# We import the classes from earthdata\n",
    "from earthdata import Auth, DataCollections, DataGranules, Store\n",
    "auth = Auth().login(strategy=\"interactive\")\n",
    "#auth = Auth().login(strategy=\"netrc\")"
   ]
  },
  {
   "cell_type": "code",
   "execution_count": 95,
   "id": "ec8f0c40",
   "metadata": {},
   "outputs": [
    {
     "name": "stdout",
     "output_type": "stream",
     "text": [
      "{'meta': {'concept-type': 'granule', 'concept-id': 'G2113544897-NSIDC_ECS', 'revision-id': 1, 'native-id': 'SC:IS2SITMOGR4.001:221651682', 'provider-id': 'NSIDC_ECS', 'format': 'application/echo10+xml', 'revision-date': '2021-09-02T19:46:35.988Z'}, 'umm': {'TemporalExtent': {'RangeDateTime': {'BeginningDateTime': '2021-01-01T00:00:00.000Z', 'EndingDateTime': '2021-01-31T23:59:59.990Z'}}, 'GranuleUR': 'SC:IS2SITMOGR4.001:221651682', 'AdditionalAttributes': [{'Name': 'SIPSMetGenVersion', 'Values': ['2.5']}], 'SpatialExtent': {'HorizontalSpatialDomain': {'Geometry': {'BoundingRectangles': [{'WestBoundingCoordinate': -180.0, 'EastBoundingCoordinate': 180.0, 'NorthBoundingCoordinate': 89.0, 'SouthBoundingCoordinate': 30.0}]}}}, 'ProviderDates': [{'Date': '2021-09-02T13:44:30.278Z', 'Type': 'Insert'}, {'Date': '2021-09-02T13:45:02.452Z', 'Type': 'Update'}], 'CollectionReference': {'EntryTitle': 'ICESat-2 L4 Monthly Gridded Sea Ice Thickness V001'}, 'RelatedUrls': [{'URL': 'https://n5eil01u.ecs.nsidc.org/DP7/ICESAT2_PO/IS2SITMOGR4.001/2021.01.01/IS2SITMOGR4_01_202101_004_001.nc', 'Type': 'GET DATA', 'MimeType': 'application/x-netcdf'}, {'URL': 'https://n5eil01u.ecs.nsidc.org/DP0/BRWS/Browse.001/2021.09.02/IS2SITMOGR4_01_202101_004_001.png', 'Type': 'GET RELATED VISUALIZATION', 'MimeType': 'image/jpeg'}, {'URL': 'https://n5eil01u.ecs.nsidc.org/DP7/ICESAT2_PO/IS2SITMOGR4.001/2021.01.01/IS2SITMOGR4_01_202101_004_001.nc.xml', 'Type': 'VIEW RELATED INFORMATION', 'MimeType': 'text/xml'}], 'DataGranule': {'DayNightFlag': 'Unspecified', 'Identifiers': [{'Identifier': 'IS2SITMOGR4_01_202101_004_001.nc', 'IdentifierType': 'ProducerGranuleId'}], 'ProductionDateTime': '2021-08-13T10:38:10.000Z', 'ArchiveAndDistributionInformation': [{'Name': 'Not provided', 'Size': 6.77546, 'SizeUnit': 'MB'}]}, 'Platforms': [{'ShortName': 'ICESat-2', 'Instruments': [{'ShortName': 'ATLAS', 'ComposedOf': [{'ShortName': 'ATLAS'}]}]}], 'MetadataSpecification': {'URL': 'https://cdn.earthdata.nasa.gov/umm/granule/v1.6.4', 'Name': 'UMM-G', 'Version': '1.6.4'}}, 'size': 6.77546}\n"
     ]
    }
   ],
   "source": [
    "Query = DataGranules().short_name('IS2SITMOGR4').temporal(\"2021-01-01\", \"2021-01-31\")\n",
    "granules = Query.get(1)\n",
    "print(granules[0])"
   ]
  },
  {
   "cell_type": "code",
   "execution_count": 96,
   "id": "fd6d3e98",
   "metadata": {},
   "outputs": [
    {
     "data": {
      "text/plain": [
       "False"
      ]
     },
     "execution_count": 96,
     "metadata": {},
     "output_type": "execute_result"
    }
   ],
   "source": [
    "granules[0].cloud_hosted"
   ]
  },
  {
   "cell_type": "code",
   "execution_count": 97,
   "id": "cd90d4bc",
   "metadata": {},
   "outputs": [],
   "source": [
    "store = Store(auth)"
   ]
  },
  {
   "cell_type": "code",
   "execution_count": 98,
   "id": "3f3567de",
   "metadata": {},
   "outputs": [
    {
     "name": "stdout",
     "output_type": "stream",
     "text": [
      " Getting 1 granules, approx download size: 0.01 GB\n"
     ]
    },
    {
     "data": {
      "application/vnd.jupyter.widget-view+json": {
       "model_id": "98c38b1ddbdc47af8dcf38c8b848af46",
       "version_major": 2,
       "version_minor": 0
      },
      "text/plain": [
       "SUBMITTING | :   0%|          | 0/1 [00:00<?, ?it/s]"
      ]
     },
     "metadata": {},
     "output_type": "display_data"
    },
    {
     "data": {
      "application/vnd.jupyter.widget-view+json": {
       "model_id": "44946e8547174a8899d4e2cb9fdae913",
       "version_major": 2,
       "version_minor": 0
      },
      "text/plain": [
       "PROCESSING | :   0%|          | 0/1 [00:00<?, ?it/s]"
      ]
     },
     "metadata": {},
     "output_type": "display_data"
    },
    {
     "data": {
      "application/vnd.jupyter.widget-view+json": {
       "model_id": "a4fa8438b120413396674633fe16c69f",
       "version_major": 2,
       "version_minor": 0
      },
      "text/plain": [
       "COLLECTING | :   0%|          | 0/1 [00:00<?, ?it/s]"
      ]
     },
     "metadata": {},
     "output_type": "display_data"
    }
   ],
   "source": [
    "data_dir = './data'\n",
    "files = store.get(granules[0:], data_dir)"
   ]
  },
  {
   "cell_type": "code",
   "execution_count": 99,
   "id": "617118b4",
   "metadata": {},
   "outputs": [],
   "source": [
    "import glob\n",
    "local_files = glob.glob(f'{data_dir}/*.nc')\n",
    "local_files\n",
    "icesat2_file = local_files[0]"
   ]
  },
  {
   "cell_type": "code",
   "execution_count": 100,
   "id": "874d70d6",
   "metadata": {},
   "outputs": [
    {
     "data": {
      "text/plain": [
       "'./data/IS2SITMOGR4_01_202101_004_001.nc'"
      ]
     },
     "execution_count": 100,
     "metadata": {},
     "output_type": "execute_result"
    }
   ],
   "source": [
    "icesat2_file"
   ]
  },
  {
   "cell_type": "code",
   "execution_count": 104,
   "id": "d661f3c4",
   "metadata": {},
   "outputs": [
    {
     "data": {
      "text/plain": [
       "'IS2SITMOGR4_01_202101_004_001'"
      ]
     },
     "execution_count": 104,
     "metadata": {},
     "output_type": "execute_result"
    }
   ],
   "source": [
    "from pathlib import Path\n",
    "\n",
    "stem = Path(icesat2_file).stem\n",
    "stem"
   ]
  },
  {
   "cell_type": "code",
   "execution_count": 105,
   "id": "a1ee6cbc",
   "metadata": {},
   "outputs": [],
   "source": [
    "proj4326 = pyproj.Transformer.from_crs(\"epsg:3413\", \"epsg:4326\", always_xy=True)\n",
    "proj3857 = pyproj.Transformer.from_crs(\"epsg:4326\", \"epsg:3857\", always_xy=True)\n",
    "\n",
    "xds = xarray.open_dataset(icesat2_file)\n",
    "\n",
    "ice_thickness = xds.ice_thickness"
   ]
  },
  {
   "cell_type": "code",
   "execution_count": 106,
   "id": "426ce8dc",
   "metadata": {},
   "outputs": [
    {
     "name": "stdout",
     "output_type": "stream",
     "text": [
      "| 25000.00, 0.00,-3850000.00|\n",
      "| 0.00,-25000.00, 5850000.00|\n",
      "| 0.00, 0.00, 1.00| 304 448\n"
     ]
    }
   ],
   "source": [
    "bounds = (-3850000.0, -5350000.0, 3750000.0, 5850000.0)\n",
    "\n",
    "transform, width, height = calculate_default_transform(\n",
    "    CRS.from_epsg(3411),\n",
    "    CRS.from_epsg(3411),\n",
    "    ice_thickness.shape[0],\n",
    "    ice_thickness.shape[1],\n",
    "    *bounds\n",
    ")\n",
    "\n",
    "print(transform, width, height)\n",
    "\n",
    "profile = {\n",
    "    'driver': 'GTiff',\n",
    "    'dtype': 'float32',\n",
    "    'nodata': 0,\n",
    "    'width': width,\n",
    "    'height': height,\n",
    "    'count': 1,\n",
    "    'crs': CRS.from_epsg(3411),\n",
    "    'transform': transform,\n",
    "    'tiled': False,\n",
    "    'interleave': 'band'\n",
    "}\n",
    "val = np.where(np.isnan(ice_thickness))\n",
    "ice_thickness = np.array(ice_thickness)\n",
    "ice_thickness[val] = 0\n",
    "\n",
    "tif_filename = f'{data_dir}/{stem}'\n",
    "with rasterio.open(f'{tif_filename}.tif', 'w', **profile) as tif:\n",
    "    tif.write(ice_thickness, 1)"
   ]
  },
  {
   "cell_type": "code",
   "execution_count": 107,
   "id": "68ae1535",
   "metadata": {},
   "outputs": [
    {
     "data": {
      "text/plain": [
       "'./data/IS2SITMOGR4_01_2021-01-01T00:00:00.000Z_004_001'"
      ]
     },
     "execution_count": 107,
     "metadata": {},
     "output_type": "execute_result"
    }
   ],
   "source": [
    "# sentinel hub needs the full datetime\n",
    "yearmonth = stem.split('_')[2]\n",
    "beginning_datetime = granules[0]['umm']['TemporalExtent']['RangeDateTime']['BeginningDateTime']\n",
    "beginning_datetime\n",
    "new_filename = f'{data_dir}/{stem.replace(yearmonth, beginning_datetime)}'\n",
    "new_filename"
   ]
  },
  {
   "cell_type": "code",
   "execution_count": 108,
   "id": "85ab3e39",
   "metadata": {},
   "outputs": [
    {
     "name": "stdout",
     "output_type": "stream",
     "text": [
      "Creating output file that is 1704P x 278L.\n",
      "Processing ./data/IS2SITMOGR4_01_202101_004_001.tif [1/1] : 0Using internal nodata values (e.g. 0) for image ./data/IS2SITMOGR4_01_202101_004_001.tif.\n",
      "Copying nodata values from source ./data/IS2SITMOGR4_01_202101_004_001.tif to destination ./data/IS2SITMOGR4_01_202101_004_001_4326.tif.\n",
      "...10...20...30...40...50...60...70...80...90...100 - done.\n",
      "Input file size is 1704, 278\n",
      "0...10...20...30...40...50...60...70...80...90...100 - done.\n",
      "Creating output file that is 1592P x 658L.\n",
      "Processing ./data/IS2SITMOGR4_01_202101_004_001_clipped_for_3857.tif [1/1] : 0Using internal nodata values (e.g. 0) for image ./data/IS2SITMOGR4_01_202101_004_001_clipped_for_3857.tif.\n",
      "Copying nodata values from source ./data/IS2SITMOGR4_01_202101_004_001_clipped_for_3857.tif to destination ./data/IS2SITMOGR4_01_202101_004_001_3857.tif.\n",
      "...10...20...30...40...50...60...70...80...90...100 - done.\n",
      "0...10...20...30...40...50...60...70...80...90...100 - done.\n",
      "Input file size is 1592, 658\n",
      "0...10...20...30...40...50...60...70...80...90...100 - done.\n"
     ]
    }
   ],
   "source": [
    "tif_filename = f'{data_dir}/{stem}'\n",
    "\n",
    "# Project to 4326\n",
    "!gdalwarp -overwrite -t_srs EPSG:4326 -te -180 31.103 179.814 89.837 {tif_filename}.tif {tif_filename}_4326.tif\n",
    "\n",
    "# Clip to valid bounds for 3857 \n",
    "# -projwin <ulx> <uly> <lrx> <lry>\n",
    "!gdal_translate -projwin -180 85.0 179.814 31.103 \\\n",
    "  {tif_filename}_4326.tif {tif_filename}_clipped_for_3857.tif\n",
    "\n",
    "!gdalwarp -overwrite \\\n",
    "  -s_srs epsg:4326 -t_srs epsg:3857 \\\n",
    "  {tif_filename}_clipped_for_3857.tif {tif_filename}_3857.tif\n",
    "        \n",
    "!gdaladdo -r average --config GDAL_TIFF_OVR_BLOCKSIZE 1024 {tif_filename}_3857.tif 2 4 8 16 32\n",
    "   \n",
    "!gdal_translate -co TILED=YES -co COPY_SRC_OVERVIEWS=YES \\\n",
    "  --config GDAL_TIFF_OVR_BLOCKSIZE 1024 -co BLOCKXSIZE=1024 -co BLOCKYSIZE=1024 -co COMPRESS=DEFLATE \\\n",
    "  {tif_filename}_3857.tif  {new_filename}_COG.tif"
   ]
  },
  {
   "cell_type": "code",
   "execution_count": 109,
   "id": "c4d403e4",
   "metadata": {},
   "outputs": [
    {
     "name": "stdout",
     "output_type": "stream",
     "text": [
      "/Users/aimeebarciauskas/github/nasa-impact/cloud-optimized-data-pipelines/dataset-workflows/IS2SITMOGR4/data/IS2SITMOGR4_01_2021-01-01T00:00:00.000Z_004_001_COG.tif is a valid cloud optimized GeoTIFF\r\n"
     ]
    }
   ],
   "source": [
    "final_file = f'{new_filename}_COG.tif'\n",
    "!rio cogeo validate {final_file}"
   ]
  }
 ],
 "metadata": {
  "celltoolbar": "Tags",
  "kernelspec": {
   "display_name": "Python 3 (ipykernel)",
   "language": "python",
   "name": "python3"
  },
  "language_info": {
   "codemirror_mode": {
    "name": "ipython",
    "version": 3
   },
   "file_extension": ".py",
   "mimetype": "text/x-python",
   "name": "python",
   "nbconvert_exporter": "python",
   "pygments_lexer": "ipython3",
   "version": "3.9.7"
  }
 },
 "nbformat": 4,
 "nbformat_minor": 5
}
